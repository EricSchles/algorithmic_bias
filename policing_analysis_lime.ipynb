{
 "cells": [
  {
   "cell_type": "code",
   "execution_count": 2,
   "metadata": {},
   "outputs": [
    {
     "name": "stderr",
     "output_type": "stream",
     "text": [
      "Using TensorFlow backend.\n"
     ]
    }
   ],
   "source": [
    "import pandas as pd\n",
    "import matplotlib.pyplot as plt\n",
    "from sklearn import ensemble\n",
    "from keras.models import Sequential\n",
    "from keras.layers import Dense\n",
    "from keras.wrappers.scikit_learn import KerasRegressor\n",
    "from sklearn.model_selection import cross_val_score\n",
    "from sklearn.model_selection import KFold\n",
    "from sklearn.pipeline import Pipeline\n",
    "\n",
    "from sklearn import metrics\n",
    "import lime\n",
    "import lime.lime_tabular\n",
    "from sklearn.model_selection import cross_val_predict\n",
    "from sklearn.model_selection import train_test_split\n",
    "import numpy as np\n",
    "%matplotlib inline"
   ]
  },
  {
   "cell_type": "code",
   "execution_count": 3,
   "metadata": {},
   "outputs": [],
   "source": [
    "df = pd.read_csv(\"police-shootings/database.csv\")"
   ]
  },
  {
   "cell_type": "code",
   "execution_count": 4,
   "metadata": {},
   "outputs": [
    {
     "data": {
      "text/plain": [
       "2142"
      ]
     },
     "execution_count": 4,
     "metadata": {},
     "output_type": "execute_result"
    }
   ],
   "source": [
    "len(df)"
   ]
  },
  {
   "cell_type": "code",
   "execution_count": 5,
   "metadata": {},
   "outputs": [
    {
     "data": {
      "text/plain": [
       "Index(['id', 'name', 'date', 'manner_of_death', 'armed', 'age', 'gender',\n",
       "       'race', 'city', 'state', 'signs_of_mental_illness', 'threat_level',\n",
       "       'flee', 'body_camera'],\n",
       "      dtype='object')"
      ]
     },
     "execution_count": 5,
     "metadata": {},
     "output_type": "execute_result"
    }
   ],
   "source": [
    "df.columns"
   ]
  },
  {
   "cell_type": "code",
   "execution_count": 6,
   "metadata": {},
   "outputs": [
    {
     "data": {
      "text/html": [
       "<div>\n",
       "<style scoped>\n",
       "    .dataframe tbody tr th:only-of-type {\n",
       "        vertical-align: middle;\n",
       "    }\n",
       "\n",
       "    .dataframe tbody tr th {\n",
       "        vertical-align: top;\n",
       "    }\n",
       "\n",
       "    .dataframe thead th {\n",
       "        text-align: right;\n",
       "    }\n",
       "</style>\n",
       "<table border=\"1\" class=\"dataframe\">\n",
       "  <thead>\n",
       "    <tr style=\"text-align: right;\">\n",
       "      <th></th>\n",
       "      <th>id</th>\n",
       "      <th>name</th>\n",
       "      <th>date</th>\n",
       "      <th>manner_of_death</th>\n",
       "      <th>armed</th>\n",
       "      <th>age</th>\n",
       "      <th>gender</th>\n",
       "      <th>race</th>\n",
       "      <th>city</th>\n",
       "      <th>state</th>\n",
       "      <th>signs_of_mental_illness</th>\n",
       "      <th>threat_level</th>\n",
       "      <th>flee</th>\n",
       "      <th>body_camera</th>\n",
       "    </tr>\n",
       "  </thead>\n",
       "  <tbody>\n",
       "    <tr>\n",
       "      <th>0</th>\n",
       "      <td>3</td>\n",
       "      <td>Tim Elliot</td>\n",
       "      <td>2015-01-02</td>\n",
       "      <td>shot</td>\n",
       "      <td>gun</td>\n",
       "      <td>53.0</td>\n",
       "      <td>M</td>\n",
       "      <td>A</td>\n",
       "      <td>Shelton</td>\n",
       "      <td>WA</td>\n",
       "      <td>True</td>\n",
       "      <td>attack</td>\n",
       "      <td>Not fleeing</td>\n",
       "      <td>False</td>\n",
       "    </tr>\n",
       "    <tr>\n",
       "      <th>1</th>\n",
       "      <td>4</td>\n",
       "      <td>Lewis Lee Lembke</td>\n",
       "      <td>2015-01-02</td>\n",
       "      <td>shot</td>\n",
       "      <td>gun</td>\n",
       "      <td>47.0</td>\n",
       "      <td>M</td>\n",
       "      <td>W</td>\n",
       "      <td>Aloha</td>\n",
       "      <td>OR</td>\n",
       "      <td>False</td>\n",
       "      <td>attack</td>\n",
       "      <td>Not fleeing</td>\n",
       "      <td>False</td>\n",
       "    </tr>\n",
       "    <tr>\n",
       "      <th>2</th>\n",
       "      <td>5</td>\n",
       "      <td>John Paul Quintero</td>\n",
       "      <td>2015-01-03</td>\n",
       "      <td>shot and Tasered</td>\n",
       "      <td>unarmed</td>\n",
       "      <td>23.0</td>\n",
       "      <td>M</td>\n",
       "      <td>H</td>\n",
       "      <td>Wichita</td>\n",
       "      <td>KS</td>\n",
       "      <td>False</td>\n",
       "      <td>other</td>\n",
       "      <td>Not fleeing</td>\n",
       "      <td>False</td>\n",
       "    </tr>\n",
       "    <tr>\n",
       "      <th>3</th>\n",
       "      <td>8</td>\n",
       "      <td>Matthew Hoffman</td>\n",
       "      <td>2015-01-04</td>\n",
       "      <td>shot</td>\n",
       "      <td>toy weapon</td>\n",
       "      <td>32.0</td>\n",
       "      <td>M</td>\n",
       "      <td>W</td>\n",
       "      <td>San Francisco</td>\n",
       "      <td>CA</td>\n",
       "      <td>True</td>\n",
       "      <td>attack</td>\n",
       "      <td>Not fleeing</td>\n",
       "      <td>False</td>\n",
       "    </tr>\n",
       "    <tr>\n",
       "      <th>4</th>\n",
       "      <td>9</td>\n",
       "      <td>Michael Rodriguez</td>\n",
       "      <td>2015-01-04</td>\n",
       "      <td>shot</td>\n",
       "      <td>nail gun</td>\n",
       "      <td>39.0</td>\n",
       "      <td>M</td>\n",
       "      <td>H</td>\n",
       "      <td>Evans</td>\n",
       "      <td>CO</td>\n",
       "      <td>False</td>\n",
       "      <td>attack</td>\n",
       "      <td>Not fleeing</td>\n",
       "      <td>False</td>\n",
       "    </tr>\n",
       "  </tbody>\n",
       "</table>\n",
       "</div>"
      ],
      "text/plain": [
       "   id                name        date   manner_of_death       armed   age  \\\n",
       "0   3          Tim Elliot  2015-01-02              shot         gun  53.0   \n",
       "1   4    Lewis Lee Lembke  2015-01-02              shot         gun  47.0   \n",
       "2   5  John Paul Quintero  2015-01-03  shot and Tasered     unarmed  23.0   \n",
       "3   8     Matthew Hoffman  2015-01-04              shot  toy weapon  32.0   \n",
       "4   9   Michael Rodriguez  2015-01-04              shot    nail gun  39.0   \n",
       "\n",
       "  gender race           city state  signs_of_mental_illness threat_level  \\\n",
       "0      M    A        Shelton    WA                     True       attack   \n",
       "1      M    W          Aloha    OR                    False       attack   \n",
       "2      M    H        Wichita    KS                    False        other   \n",
       "3      M    W  San Francisco    CA                     True       attack   \n",
       "4      M    H          Evans    CO                    False       attack   \n",
       "\n",
       "          flee  body_camera  \n",
       "0  Not fleeing        False  \n",
       "1  Not fleeing        False  \n",
       "2  Not fleeing        False  \n",
       "3  Not fleeing        False  \n",
       "4  Not fleeing        False  "
      ]
     },
     "execution_count": 6,
     "metadata": {},
     "output_type": "execute_result"
    }
   ],
   "source": [
    "df.head()"
   ]
  },
  {
   "cell_type": "code",
   "execution_count": 4,
   "metadata": {},
   "outputs": [],
   "source": [
    "# Feature Engineering + transformation\n",
    "df = df[df[\"gender\"].notnull()]\n",
    "df = df[df[\"race\"].notnull()]\n",
    "df = df[df[\"armed\"].notnull()]\n",
    "df.drop(\"flee\", axis=1, inplace=True)\n",
    "df.drop(\"body_camera\", axis=1, inplace=True)\n",
    "race_map = {\n",
    "     'A': 0,\n",
    "     'W': 1, \n",
    "     'H': 0, \n",
    "     'B': 0, \n",
    "     'O': 0, \n",
    "     'N': 0   \n",
    "}\n",
    "df[\"race\"] = df[\"race\"].map(race_map)\n",
    "df = pd.concat([df, pd.get_dummies(df[\"state\"])], axis=1)\n",
    "df = pd.concat([df, pd.get_dummies(df[\"manner_of_death\"])], axis=1)\n",
    "df = pd.concat([df, pd.get_dummies(df[\"threat_level\"])], axis=1)\n",
    "df = pd.concat([df, pd.get_dummies(df[\"armed\"])], axis=1)\n",
    "df.drop(\"state\", axis=1, inplace=True)\n",
    "df.drop(\"manner_of_death\", axis=1, inplace=True)\n",
    "df.drop(\"threat_level\", axis=1, inplace=True)\n",
    "df.drop(\"armed\", axis=1, inplace=True)\n",
    "mental_illness_map = {\n",
    "    True: 1,\n",
    "    False: 0\n",
    "}\n",
    "gender_map = {\n",
    "    \"M\": 0,\n",
    "    \"F\": 1\n",
    "}\n",
    "df[\"signs_of_mental_illness\"] = df[\"signs_of_mental_illness\"].map(mental_illness_map)\n",
    "df[\"gender\"] = df[\"gender\"].map(gender_map)\n",
    "df[\"month\"] = [elem.month for elem in pd.to_datetime(df[\"date\"])]\n",
    "df[\"day\"] = [elem.day for elem in pd.to_datetime(df[\"date\"])]\n",
    "df[\"year\"] = [elem.year for elem in pd.to_datetime(df[\"date\"])]\n",
    "df.drop(\"date\", axis=1, inplace=True)"
   ]
  },
  {
   "cell_type": "code",
   "execution_count": 22,
   "metadata": {},
   "outputs": [
    {
     "data": {
      "text/plain": [
       "(2013, 126)"
      ]
     },
     "execution_count": 22,
     "metadata": {},
     "output_type": "execute_result"
    }
   ],
   "source": [
    "df.shape"
   ]
  },
  {
   "cell_type": "code",
   "execution_count": 56,
   "metadata": {},
   "outputs": [
    {
     "data": {
      "text/html": [
       "<div>\n",
       "<style scoped>\n",
       "    .dataframe tbody tr th:only-of-type {\n",
       "        vertical-align: middle;\n",
       "    }\n",
       "\n",
       "    .dataframe tbody tr th {\n",
       "        vertical-align: top;\n",
       "    }\n",
       "\n",
       "    .dataframe thead th {\n",
       "        text-align: right;\n",
       "    }\n",
       "</style>\n",
       "<table border=\"1\" class=\"dataframe\">\n",
       "  <thead>\n",
       "    <tr style=\"text-align: right;\">\n",
       "      <th></th>\n",
       "      <th>id</th>\n",
       "      <th>name</th>\n",
       "      <th>age</th>\n",
       "      <th>gender</th>\n",
       "      <th>race</th>\n",
       "      <th>city</th>\n",
       "      <th>signs_of_mental_illness</th>\n",
       "      <th>AK</th>\n",
       "      <th>AL</th>\n",
       "      <th>AR</th>\n",
       "      <th>...</th>\n",
       "      <th>straight edge razor</th>\n",
       "      <th>sword</th>\n",
       "      <th>toy weapon</th>\n",
       "      <th>unarmed</th>\n",
       "      <th>undetermined</th>\n",
       "      <th>unknown weapon</th>\n",
       "      <th>vehicle</th>\n",
       "      <th>month</th>\n",
       "      <th>day</th>\n",
       "      <th>year</th>\n",
       "    </tr>\n",
       "  </thead>\n",
       "  <tbody>\n",
       "    <tr>\n",
       "      <th>0</th>\n",
       "      <td>3</td>\n",
       "      <td>Tim Elliot</td>\n",
       "      <td>53.0</td>\n",
       "      <td>0</td>\n",
       "      <td>A</td>\n",
       "      <td>Shelton</td>\n",
       "      <td>1</td>\n",
       "      <td>0</td>\n",
       "      <td>0</td>\n",
       "      <td>0</td>\n",
       "      <td>...</td>\n",
       "      <td>0</td>\n",
       "      <td>0</td>\n",
       "      <td>0</td>\n",
       "      <td>0</td>\n",
       "      <td>0</td>\n",
       "      <td>0</td>\n",
       "      <td>0</td>\n",
       "      <td>1</td>\n",
       "      <td>2</td>\n",
       "      <td>2015</td>\n",
       "    </tr>\n",
       "    <tr>\n",
       "      <th>1</th>\n",
       "      <td>4</td>\n",
       "      <td>Lewis Lee Lembke</td>\n",
       "      <td>47.0</td>\n",
       "      <td>0</td>\n",
       "      <td>W</td>\n",
       "      <td>Aloha</td>\n",
       "      <td>0</td>\n",
       "      <td>0</td>\n",
       "      <td>0</td>\n",
       "      <td>0</td>\n",
       "      <td>...</td>\n",
       "      <td>0</td>\n",
       "      <td>0</td>\n",
       "      <td>0</td>\n",
       "      <td>0</td>\n",
       "      <td>0</td>\n",
       "      <td>0</td>\n",
       "      <td>0</td>\n",
       "      <td>1</td>\n",
       "      <td>2</td>\n",
       "      <td>2015</td>\n",
       "    </tr>\n",
       "    <tr>\n",
       "      <th>2</th>\n",
       "      <td>5</td>\n",
       "      <td>John Paul Quintero</td>\n",
       "      <td>23.0</td>\n",
       "      <td>0</td>\n",
       "      <td>H</td>\n",
       "      <td>Wichita</td>\n",
       "      <td>0</td>\n",
       "      <td>0</td>\n",
       "      <td>0</td>\n",
       "      <td>0</td>\n",
       "      <td>...</td>\n",
       "      <td>0</td>\n",
       "      <td>0</td>\n",
       "      <td>0</td>\n",
       "      <td>1</td>\n",
       "      <td>0</td>\n",
       "      <td>0</td>\n",
       "      <td>0</td>\n",
       "      <td>1</td>\n",
       "      <td>3</td>\n",
       "      <td>2015</td>\n",
       "    </tr>\n",
       "    <tr>\n",
       "      <th>3</th>\n",
       "      <td>8</td>\n",
       "      <td>Matthew Hoffman</td>\n",
       "      <td>32.0</td>\n",
       "      <td>0</td>\n",
       "      <td>W</td>\n",
       "      <td>San Francisco</td>\n",
       "      <td>1</td>\n",
       "      <td>0</td>\n",
       "      <td>0</td>\n",
       "      <td>0</td>\n",
       "      <td>...</td>\n",
       "      <td>0</td>\n",
       "      <td>0</td>\n",
       "      <td>1</td>\n",
       "      <td>0</td>\n",
       "      <td>0</td>\n",
       "      <td>0</td>\n",
       "      <td>0</td>\n",
       "      <td>1</td>\n",
       "      <td>4</td>\n",
       "      <td>2015</td>\n",
       "    </tr>\n",
       "    <tr>\n",
       "      <th>4</th>\n",
       "      <td>9</td>\n",
       "      <td>Michael Rodriguez</td>\n",
       "      <td>39.0</td>\n",
       "      <td>0</td>\n",
       "      <td>H</td>\n",
       "      <td>Evans</td>\n",
       "      <td>0</td>\n",
       "      <td>0</td>\n",
       "      <td>0</td>\n",
       "      <td>0</td>\n",
       "      <td>...</td>\n",
       "      <td>0</td>\n",
       "      <td>0</td>\n",
       "      <td>0</td>\n",
       "      <td>0</td>\n",
       "      <td>0</td>\n",
       "      <td>0</td>\n",
       "      <td>0</td>\n",
       "      <td>1</td>\n",
       "      <td>4</td>\n",
       "      <td>2015</td>\n",
       "    </tr>\n",
       "  </tbody>\n",
       "</table>\n",
       "<p>5 rows × 129 columns</p>\n",
       "</div>"
      ],
      "text/plain": [
       "   id                name   age  gender race           city  \\\n",
       "0   3          Tim Elliot  53.0       0    A        Shelton   \n",
       "1   4    Lewis Lee Lembke  47.0       0    W          Aloha   \n",
       "2   5  John Paul Quintero  23.0       0    H        Wichita   \n",
       "3   8     Matthew Hoffman  32.0       0    W  San Francisco   \n",
       "4   9   Michael Rodriguez  39.0       0    H          Evans   \n",
       "\n",
       "   signs_of_mental_illness  AK  AL  AR  ...   straight edge razor  sword  \\\n",
       "0                        1   0   0   0  ...                     0      0   \n",
       "1                        0   0   0   0  ...                     0      0   \n",
       "2                        0   0   0   0  ...                     0      0   \n",
       "3                        1   0   0   0  ...                     0      0   \n",
       "4                        0   0   0   0  ...                     0      0   \n",
       "\n",
       "   toy weapon  unarmed  undetermined  unknown weapon  vehicle  month  day  \\\n",
       "0           0        0             0               0        0      1    2   \n",
       "1           0        0             0               0        0      1    2   \n",
       "2           0        1             0               0        0      1    3   \n",
       "3           1        0             0               0        0      1    4   \n",
       "4           0        0             0               0        0      1    4   \n",
       "\n",
       "   year  \n",
       "0  2015  \n",
       "1  2015  \n",
       "2  2015  \n",
       "3  2015  \n",
       "4  2015  \n",
       "\n",
       "[5 rows x 129 columns]"
      ]
     },
     "execution_count": 56,
     "metadata": {},
     "output_type": "execute_result"
    }
   ],
   "source": [
    "df.head()"
   ]
  },
  {
   "cell_type": "code",
   "execution_count": 5,
   "metadata": {},
   "outputs": [],
   "source": [
    "df.drop(\"id\", inplace=True, axis=1)\n",
    "df.drop(\"name\", inplace=True, axis=1)\n",
    "df.drop(\"city\", inplace=True, axis=1)"
   ]
  },
  {
   "cell_type": "code",
   "execution_count": 66,
   "metadata": {},
   "outputs": [
    {
     "data": {
      "text/plain": [
       "array(['A', 'W', 'H', 'B', 'O', 'N'], dtype=object)"
      ]
     },
     "execution_count": 66,
     "metadata": {},
     "output_type": "execute_result"
    }
   ],
   "source": [
    "df[\"race\"].unique()"
   ]
  },
  {
   "cell_type": "code",
   "execution_count": 6,
   "metadata": {
    "scrolled": true
   },
   "outputs": [
    {
     "name": "stderr",
     "output_type": "stream",
     "text": [
      "/usr/local/lib/python3.6/dist-packages/sklearn/ensemble/forest.py:248: FutureWarning: The default value of n_estimators will change from 10 in version 0.20 to 100 in 0.22.\n",
      "  \"10 in version 0.20 to 100 in 0.22.\", FutureWarning)\n",
      "/usr/local/lib/python3.6/dist-packages/sklearn/ensemble/forest.py:248: FutureWarning: The default value of n_estimators will change from 10 in version 0.20 to 100 in 0.22.\n",
      "  \"10 in version 0.20 to 100 in 0.22.\", FutureWarning)\n",
      "/usr/local/lib/python3.6/dist-packages/sklearn/ensemble/forest.py:248: FutureWarning: The default value of n_estimators will change from 10 in version 0.20 to 100 in 0.22.\n",
      "  \"10 in version 0.20 to 100 in 0.22.\", FutureWarning)\n",
      "/usr/local/lib/python3.6/dist-packages/sklearn/ensemble/forest.py:248: FutureWarning: The default value of n_estimators will change from 10 in version 0.20 to 100 in 0.22.\n",
      "  \"10 in version 0.20 to 100 in 0.22.\", FutureWarning)\n",
      "/usr/local/lib/python3.6/dist-packages/sklearn/ensemble/forest.py:248: FutureWarning: The default value of n_estimators will change from 10 in version 0.20 to 100 in 0.22.\n",
      "  \"10 in version 0.20 to 100 in 0.22.\", FutureWarning)\n",
      "/usr/local/lib/python3.6/dist-packages/sklearn/ensemble/forest.py:248: FutureWarning: The default value of n_estimators will change from 10 in version 0.20 to 100 in 0.22.\n",
      "  \"10 in version 0.20 to 100 in 0.22.\", FutureWarning)\n",
      "/usr/local/lib/python3.6/dist-packages/sklearn/ensemble/forest.py:248: FutureWarning: The default value of n_estimators will change from 10 in version 0.20 to 100 in 0.22.\n",
      "  \"10 in version 0.20 to 100 in 0.22.\", FutureWarning)\n",
      "/usr/local/lib/python3.6/dist-packages/sklearn/ensemble/forest.py:248: FutureWarning: The default value of n_estimators will change from 10 in version 0.20 to 100 in 0.22.\n",
      "  \"10 in version 0.20 to 100 in 0.22.\", FutureWarning)\n"
     ]
    },
    {
     "name": "stdout",
     "output_type": "stream",
     "text": [
      "              precision    recall  f1-score   support\n",
      "\n",
      "           0       0.60      0.69      0.64       979\n",
      "           1       0.66      0.57      0.61      1034\n",
      "\n",
      "   micro avg       0.62      0.62      0.62      2013\n",
      "   macro avg       0.63      0.63      0.62      2013\n",
      "weighted avg       0.63      0.62      0.62      2013\n",
      "\n"
     ]
    },
    {
     "name": "stderr",
     "output_type": "stream",
     "text": [
      "/usr/local/lib/python3.6/dist-packages/sklearn/ensemble/forest.py:248: FutureWarning: The default value of n_estimators will change from 10 in version 0.20 to 100 in 0.22.\n",
      "  \"10 in version 0.20 to 100 in 0.22.\", FutureWarning)\n",
      "/usr/local/lib/python3.6/dist-packages/sklearn/ensemble/forest.py:248: FutureWarning: The default value of n_estimators will change from 10 in version 0.20 to 100 in 0.22.\n",
      "  \"10 in version 0.20 to 100 in 0.22.\", FutureWarning)\n"
     ]
    }
   ],
   "source": [
    "df = df[df[\"age\"].notnull()]\n",
    "y = df[\"race\"]\n",
    "X = df.drop(\"race\", axis=1)\n",
    "rf_clf = ensemble.RandomForestClassifier()\n",
    "prediction = cross_val_predict(rf_clf, X, y, cv=10)\n",
    "print(metrics.classification_report(y, prediction))"
   ]
  },
  {
   "cell_type": "code",
   "execution_count": 7,
   "metadata": {},
   "outputs": [
    {
     "name": "stderr",
     "output_type": "stream",
     "text": [
      "/usr/local/lib/python3.6/dist-packages/sklearn/model_selection/_split.py:2069: FutureWarning: From version 0.21, test_size will always complement train_size unless both are specified.\n",
      "  FutureWarning)\n",
      "/usr/local/lib/python3.6/dist-packages/ipykernel_launcher.py:5: FutureWarning: Method .as_matrix will be removed in a future version. Use .values instead.\n",
      "  \"\"\"\n"
     ]
    }
   ],
   "source": [
    "X_train, X_test, y_train, y_test = train_test_split(\n",
    "    X, y, train_size=0.80)\n",
    "feature_names = list(X_train.columns.tolist())\n",
    "class_names = list(y_train.unique())\n",
    "explainer = lime.lime_tabular.LimeTabularExplainer(X_train.as_matrix(), \n",
    "                                                   feature_names=feature_names, \n",
    "                                                   class_names=class_names,\n",
    "                                                   discretize_continuous=True)"
   ]
  },
  {
   "cell_type": "code",
   "execution_count": 8,
   "metadata": {},
   "outputs": [
    {
     "name": "stderr",
     "output_type": "stream",
     "text": [
      "/usr/local/lib/python3.6/dist-packages/sklearn/ensemble/forest.py:248: FutureWarning: The default value of n_estimators will change from 10 in version 0.20 to 100 in 0.22.\n",
      "  \"10 in version 0.20 to 100 in 0.22.\", FutureWarning)\n"
     ]
    },
    {
     "data": {
      "text/plain": [
       "RandomForestClassifier(bootstrap=True, class_weight=None, criterion='gini',\n",
       "            max_depth=None, max_features='auto', max_leaf_nodes=None,\n",
       "            min_impurity_decrease=0.0, min_impurity_split=None,\n",
       "            min_samples_leaf=1, min_samples_split=2,\n",
       "            min_weight_fraction_leaf=0.0, n_estimators=10, n_jobs=None,\n",
       "            oob_score=False, random_state=None, verbose=0,\n",
       "            warm_start=False)"
      ]
     },
     "execution_count": 8,
     "metadata": {},
     "output_type": "execute_result"
    }
   ],
   "source": [
    "rf_clf = ensemble.RandomForestClassifier()\n",
    "rf_clf.fit(X_train, y_train)"
   ]
  },
  {
   "cell_type": "code",
   "execution_count": 23,
   "metadata": {},
   "outputs": [],
   "source": [
    "exp = explainer.explain_instance(X_test.iloc[0], rf_clf.predict_proba, num_features=X.shape[1], top_labels=1)"
   ]
  },
  {
   "cell_type": "code",
   "execution_count": 26,
   "metadata": {},
   "outputs": [
    {
     "name": "stdout",
     "output_type": "stream",
     "text": [
      "('DC <= 0.00', 0.19633752984690345)\n",
      "('metal stick <= 0.00', 0.19335518888659806)\n",
      "('HI <= 0.00', 0.1476124988149608)\n",
      "('CA <= 0.00', 0.12563147836747204)\n",
      "('shovel <= 0.00', 0.10473836352483142)\n",
      "('piece of wood <= 0.00', 0.09158878402353177)\n",
      "('hand torch <= 0.00', 0.08972204379450792)\n",
      "('MD <= 0.00', 0.08398271319602517)\n",
      "('metal hand tool <= 0.00', 0.08283149938457068)\n",
      "('blunt object <= 0.00', 0.07892523605888366)\n",
      "('gun and knife <= 0.00', 0.07698895964098215)\n",
      "('ND <= 0.00', 0.0657707899357443)\n",
      "('sword <= 0.00', 0.063743082744702)\n",
      "('baseball bat and fireplace poker <= 0.00', 0.06149047501406983)\n",
      "('IL <= 0.00', 0.06088309753428349)\n",
      "('Taser <= 0.00', 0.06012317809993722)\n",
      "('TX <= 0.00', 0.04482152657162937)\n",
      "('stapler <= 0.00', 0.043469960299597196)\n",
      "('PA <= 0.00', 0.040563814869415696)\n",
      "('NM <= 0.00', 0.04040475736632518)\n",
      "('VT <= 0.00', 0.039410387872957406)\n",
      "('VA <= 0.00', 0.03800598500161835)\n",
      "('NJ <= 0.00', 0.03511557358684492)\n",
      "('6.00 < month <= 9.00', 0.032922409420110245)\n",
      "('screwdriver <= 0.00', 0.028978758109039382)\n",
      "('NV <= 0.00', 0.028795666173724855)\n",
      "('NY <= 0.00', 0.02794315665893581)\n",
      "('undetermined <= 0.00', 0.026027660853516644)\n",
      "('ax <= 0.00', 0.025726644018346234)\n",
      "('FL <= 0.00', 0.025117312429374587)\n",
      "('oar <= 0.00', 0.024763004109659058)\n",
      "('OH <= 0.00', 0.02223938795387221)\n",
      "('0.00 < attack <= 1.00', 0.02172397963623793)\n",
      "('MA <= 0.00', 0.01830379786639829)\n",
      "('MN <= 0.00', 0.014964455582988145)\n",
      "('scissors <= 0.00', 0.010719993660514626)\n",
      "('unarmed <= 0.00', 0.010375479061890364)\n",
      "('AZ <= 0.00', 0.009945944261716733)\n",
      "('8.00 < day <= 16.00', 0.009298173690689499)\n",
      "('LA <= 0.00', 0.008111909491292717)\n",
      "('other <= 0.00', 0.007985686448704789)\n",
      "('SD <= 0.00', 0.006401725887037206)\n",
      "('MI <= 0.00', 0.004287607979201812)\n",
      "('knife <= 0.00', 0.0039029606606097015)\n",
      "('0.00 < gun <= 1.00', 0.0036084441628572704)\n",
      "('undetermined <= 0.00', 0.0008800576330168853)\n",
      "('glass shard <= 0.00', 0.0)\n",
      "('metal object <= 0.00', 0.0)\n",
      "('hatchet and gun <= 0.00', 0.0)\n",
      "('pitchfork <= 0.00', 0.0)\n",
      "('beer bottle <= 0.00', 0.0)\n",
      "('cordless drill <= 0.00', 0.0)\n",
      "('pipe <= 0.00', 0.0)\n",
      "('pole <= 0.00', 0.0)\n",
      "('flagpole <= 0.00', 0.0)\n",
      "('bayonet <= 0.00', 0.0)\n",
      "('pick-axe <= 0.00', 0.0)\n",
      "('shot <= 1.00', 0.0)\n",
      "('shot and Tasered <= 0.00', -0.0028046529479979244)\n",
      "('motorcycle <= 0.00', -0.0032461317690377924)\n",
      "('chain saw <= 0.00', -0.005418127222244134)\n",
      "('GA <= 0.00', -0.00708550427297772)\n",
      "('crowbar <= 0.00', -0.0077188559303659)\n",
      "('2015.00 < year <= 2016.00', -0.011087340167339595)\n",
      "('NC > 0.00', -0.011110604754975927)\n",
      "('machete <= 0.00', -0.014315276634872717)\n",
      "('gender <= 0.00', -0.015732327521145915)\n",
      "('IN <= 0.00', -0.01666819590431957)\n",
      "('garden tool <= 0.00', -0.017853577429095362)\n",
      "('DE <= 0.00', -0.022326199473564068)\n",
      "('CO <= 0.00', -0.023497328639491454)\n",
      "('CT <= 0.00', -0.023870257777186425)\n",
      "('lawn mower blade <= 0.00', -0.02620247030823628)\n",
      "('vehicle <= 0.00', -0.02922845409006856)\n",
      "('MS <= 0.00', -0.031956619641418764)\n",
      "('metal rake <= 0.00', -0.034874928375637576)\n",
      "('WY <= 0.00', -0.03766545800477503)\n",
      "('OK <= 0.00', -0.03887768076314281)\n",
      "('AK <= 0.00', -0.040535677204123446)\n",
      "('WA <= 0.00', -0.04262845966741877)\n",
      "('TN <= 0.00', -0.04325494381834845)\n",
      "('hatchet <= 0.00', -0.04424174497817884)\n",
      "('MO <= 0.00', -0.044473214187969484)\n",
      "('machete and gun <= 0.00', -0.04525693080324548)\n",
      "('crossbow <= 0.00', -0.045504133925172496)\n",
      "('baseball bat <= 0.00', -0.047352791903451964)\n",
      "('hammer <= 0.00', -0.050687102860450896)\n",
      "('toy weapon <= 0.00', -0.05071781441637925)\n",
      "('ME <= 0.00', -0.05240515274582673)\n",
      "('metal pipe <= 0.00', -0.05798614226113898)\n",
      "('unknown weapon <= 0.00', -0.06218900863231215)\n",
      "('RI <= 0.00', -0.06290048325293247)\n",
      "('carjack <= 0.00', -0.06566005215293413)\n",
      "('sharp object <= 0.00', -0.06867258993508567)\n",
      "('WI <= 0.00', -0.06930313824045585)\n",
      "('SC <= 0.00', -0.07124693622927122)\n",
      "('NE <= 0.00', -0.0736496951097303)\n",
      "('rock <= 0.00', -0.07427203615154072)\n",
      "('nail gun <= 0.00', -0.07430661517279082)\n",
      "('NH <= 0.00', -0.07836081097386974)\n",
      "('UT <= 0.00', -0.08553101103159996)\n",
      "('box cutter <= 0.00', -0.08808884640151221)\n",
      "('26.00 < age <= 34.00', -0.08852314973506649)\n",
      "('guns and explosives <= 0.00', -0.09219422789029648)\n",
      "('meat cleaver <= 0.00', -0.09263857713732873)\n",
      "('pole and knife <= 0.00', -0.09623182401892769)\n",
      "('KS <= 0.00', -0.09816649994232701)\n",
      "(\"contractor's level <= 0.00\", -0.10227608878495303)\n",
      "('AL <= 0.00', -0.1067980175787354)\n",
      "('spear <= 0.00', -0.10847261653219915)\n",
      "('straight edge razor <= 0.00', -0.11186337345868061)\n",
      "('bean-bag gun <= 0.00', -0.11291569308822276)\n",
      "('AR <= 0.00', -0.1150668837987561)\n",
      "('IA <= 0.00', -0.129823129870624)\n",
      "('baton <= 0.00', -0.13331375752680405)\n",
      "('KY <= 0.00', -0.13352254975782046)\n",
      "('brick <= 0.00', -0.13672514943386915)\n",
      "('MT <= 0.00', -0.14958340411961646)\n",
      "('ID <= 0.00', -0.1559767678870037)\n",
      "('signs_of_mental_illness <= 0.00', -0.16887693429721415)\n",
      "('flashlight <= 0.00', -0.1742307556177324)\n",
      "('WV <= 0.00', -0.19029975889041426)\n",
      "('chain <= 0.00', -0.19688466408834973)\n",
      "('metal pole <= 0.00', -0.20026212882837627)\n",
      "('OR <= 0.00', -0.24470477100124274)\n",
      "['white']\n"
     ]
    }
   ],
   "source": [
    "label_mapping = {\n",
    "    1: \"white\",\n",
    "    0: \"minority\"\n",
    "}\n",
    "feature_scores = exp.as_list()\n",
    "feature_scores = sorted(feature_scores, key=lambda t:t[1], reverse=True) \n",
    "for elem in feature_scores:\n",
    "    print(elem)\n",
    "print([label_mapping[elem] for elem in exp.top_labels])"
   ]
  },
  {
   "cell_type": "code",
   "execution_count": 25,
   "metadata": {},
   "outputs": [
    {
     "data": {
      "image/png": "[encoded data removed]",
      "text/plain": [
       "<Figure size 432x288 with 1 Axes>"
      ]
     },
     "metadata": {},
     "output_type": "display_data"
    }
   ],
   "source": [
    "%matplotlib inline\n",
    "exp.as_pyplot_figure()\n",
    "plt.show()"
   ]
  },
  {
   "cell_type": "code",
   "execution_count": 27,
   "metadata": {},
   "outputs": [
    {
     "name": "stdout",
     "output_type": "stream",
     "text": [
      "('age', 0.22493395038266403)\n",
      "('day', 0.1626058783659278)\n",
      "('month', 0.11928124113218921)\n",
      "('year', 0.04770578677516514)\n",
      "('CA', 0.025197748436013658)\n",
      "('signs_of_mental_illness', 0.022435734685181816)\n",
      "('knife', 0.0215943595872303)\n",
      "('FL', 0.0193818512180609)\n",
      "('gun', 0.019003444563964095)\n",
      "('other', 0.015730545612754568)\n"
     ]
    }
   ],
   "source": [
    "features = sorted(list(zip(X.columns.tolist(), cart_clf.feature_importances_)), \n",
    "       key=lambda t:t[1], reverse=True)\n",
    "for feature in features[:10]:\n",
    "    print(feature)"
   ]
  },
  {
   "cell_type": "code",
   "execution_count": null,
   "metadata": {},
   "outputs": [
    {
     "name": "stderr",
     "output_type": "stream",
     "text": [
      "/usr/local/lib/python3.6/dist-packages/ipykernel_launcher.py:1: FutureWarning: Method .as_matrix will be removed in a future version. Use .values instead.\n",
      "  \"\"\"Entry point for launching an IPython kernel.\n"
     ]
    }
   ],
   "source": [
    "explainer_cont = lime.lime_tabular.LimeTabularExplainer(X_test.as_matrix(), rf_clf.predict_proba, discretize_continuous=True)\n",
    "exp_count = explainer_cont.explain_instance(X_test.iloc[0], rf_clf.predict_proba, num_features=X.shape[1], top_labels=1)"
   ]
  },
  {
   "cell_type": "code",
   "execution_count": null,
   "metadata": {},
   "outputs": [],
   "source": [
    "feature_scores = tabular_explainer.as_list()\n",
    "feature_scores = sorted(feature_scores, key=lambda t:t[1], reverse=True) \n",
    "for elem in feature_scores:\n",
    "    print(elem)\n",
    "print([label_mapping[elem] for elem in tabular_explainer.top_labels])\n"
   ]
  },
  {
   "cell_type": "code",
   "execution_count": null,
   "metadata": {},
   "outputs": [],
   "source": [
    "%matplotlib inline\n",
    "tabular_explainer.as_pyplot_figure()\n",
    "plt.show()"
   ]
  }
 ],
 "metadata": {
  "kernelspec": {
   "display_name": "Python 3",
   "language": "python",
   "name": "python3"
  },
  "language_info": {
   "codemirror_mode": {
    "name": "ipython",
    "version": 3
   },
   "file_extension": ".py",
   "mimetype": "text/x-python",
   "name": "python",
   "nbconvert_exporter": "python",
   "pygments_lexer": "ipython3",
   "version": "3.6.6"
  }
 },
 "nbformat": 4,
 "nbformat_minor": 2
}
