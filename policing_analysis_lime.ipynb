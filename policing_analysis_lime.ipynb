{
 "cells": [
  {
   "cell_type": "code",
   "execution_count": 1,
   "metadata": {},
   "outputs": [
    {
     "name": "stderr",
     "output_type": "stream",
     "text": [
      "Using TensorFlow backend.\n"
     ]
    }
   ],
   "source": [
    "import pandas as pd\n",
    "import matplotlib.pyplot as plt\n",
    "from sklearn import ensemble\n",
    "from keras.models import Sequential\n",
    "from keras.layers import Dense\n",
    "from keras.wrappers.scikit_learn import KerasRegressor\n",
    "from sklearn.model_selection import cross_val_score\n",
    "from sklearn.model_selection import KFold\n",
    "from sklearn.pipeline import Pipeline\n",
    "\n",
    "from sklearn import metrics\n",
    "import lime\n",
    "import lime.lime_tabular\n",
    "from sklearn.model_selection import cross_val_predict\n",
    "from sklearn.model_selection import train_test_split\n",
    "import numpy as np\n",
    "%matplotlib inline"
   ]
  },
  {
   "cell_type": "code",
   "execution_count": 2,
   "metadata": {},
   "outputs": [],
   "source": [
    "df = pd.read_csv(\"police-shootings/database.csv\")"
   ]
  },
  {
   "cell_type": "code",
   "execution_count": 4,
   "metadata": {},
   "outputs": [
    {
     "data": {
      "text/plain": [
       "2142"
      ]
     },
     "execution_count": 4,
     "metadata": {},
     "output_type": "execute_result"
    }
   ],
   "source": [
    "len(df)"
   ]
  },
  {
   "cell_type": "code",
   "execution_count": 5,
   "metadata": {},
   "outputs": [
    {
     "data": {
      "text/plain": [
       "Index(['id', 'name', 'date', 'manner_of_death', 'armed', 'age', 'gender',\n",
       "       'race', 'city', 'state', 'signs_of_mental_illness', 'threat_level',\n",
       "       'flee', 'body_camera'],\n",
       "      dtype='object')"
      ]
     },
     "execution_count": 5,
     "metadata": {},
     "output_type": "execute_result"
    }
   ],
   "source": [
    "df.columns"
   ]
  },
  {
   "cell_type": "code",
   "execution_count": 6,
   "metadata": {},
   "outputs": [
    {
     "data": {
      "text/html": [
       "<div>\n",
       "<style scoped>\n",
       "    .dataframe tbody tr th:only-of-type {\n",
       "        vertical-align: middle;\n",
       "    }\n",
       "\n",
       "    .dataframe tbody tr th {\n",
       "        vertical-align: top;\n",
       "    }\n",
       "\n",
       "    .dataframe thead th {\n",
       "        text-align: right;\n",
       "    }\n",
       "</style>\n",
       "<table border=\"1\" class=\"dataframe\">\n",
       "  <thead>\n",
       "    <tr style=\"text-align: right;\">\n",
       "      <th></th>\n",
       "      <th>id</th>\n",
       "      <th>name</th>\n",
       "      <th>date</th>\n",
       "      <th>manner_of_death</th>\n",
       "      <th>armed</th>\n",
       "      <th>age</th>\n",
       "      <th>gender</th>\n",
       "      <th>race</th>\n",
       "      <th>city</th>\n",
       "      <th>state</th>\n",
       "      <th>signs_of_mental_illness</th>\n",
       "      <th>threat_level</th>\n",
       "      <th>flee</th>\n",
       "      <th>body_camera</th>\n",
       "    </tr>\n",
       "  </thead>\n",
       "  <tbody>\n",
       "    <tr>\n",
       "      <th>0</th>\n",
       "      <td>3</td>\n",
       "      <td>Tim Elliot</td>\n",
       "      <td>2015-01-02</td>\n",
       "      <td>shot</td>\n",
       "      <td>gun</td>\n",
       "      <td>53.0</td>\n",
       "      <td>M</td>\n",
       "      <td>A</td>\n",
       "      <td>Shelton</td>\n",
       "      <td>WA</td>\n",
       "      <td>True</td>\n",
       "      <td>attack</td>\n",
       "      <td>Not fleeing</td>\n",
       "      <td>False</td>\n",
       "    </tr>\n",
       "    <tr>\n",
       "      <th>1</th>\n",
       "      <td>4</td>\n",
       "      <td>Lewis Lee Lembke</td>\n",
       "      <td>2015-01-02</td>\n",
       "      <td>shot</td>\n",
       "      <td>gun</td>\n",
       "      <td>47.0</td>\n",
       "      <td>M</td>\n",
       "      <td>W</td>\n",
       "      <td>Aloha</td>\n",
       "      <td>OR</td>\n",
       "      <td>False</td>\n",
       "      <td>attack</td>\n",
       "      <td>Not fleeing</td>\n",
       "      <td>False</td>\n",
       "    </tr>\n",
       "    <tr>\n",
       "      <th>2</th>\n",
       "      <td>5</td>\n",
       "      <td>John Paul Quintero</td>\n",
       "      <td>2015-01-03</td>\n",
       "      <td>shot and Tasered</td>\n",
       "      <td>unarmed</td>\n",
       "      <td>23.0</td>\n",
       "      <td>M</td>\n",
       "      <td>H</td>\n",
       "      <td>Wichita</td>\n",
       "      <td>KS</td>\n",
       "      <td>False</td>\n",
       "      <td>other</td>\n",
       "      <td>Not fleeing</td>\n",
       "      <td>False</td>\n",
       "    </tr>\n",
       "    <tr>\n",
       "      <th>3</th>\n",
       "      <td>8</td>\n",
       "      <td>Matthew Hoffman</td>\n",
       "      <td>2015-01-04</td>\n",
       "      <td>shot</td>\n",
       "      <td>toy weapon</td>\n",
       "      <td>32.0</td>\n",
       "      <td>M</td>\n",
       "      <td>W</td>\n",
       "      <td>San Francisco</td>\n",
       "      <td>CA</td>\n",
       "      <td>True</td>\n",
       "      <td>attack</td>\n",
       "      <td>Not fleeing</td>\n",
       "      <td>False</td>\n",
       "    </tr>\n",
       "    <tr>\n",
       "      <th>4</th>\n",
       "      <td>9</td>\n",
       "      <td>Michael Rodriguez</td>\n",
       "      <td>2015-01-04</td>\n",
       "      <td>shot</td>\n",
       "      <td>nail gun</td>\n",
       "      <td>39.0</td>\n",
       "      <td>M</td>\n",
       "      <td>H</td>\n",
       "      <td>Evans</td>\n",
       "      <td>CO</td>\n",
       "      <td>False</td>\n",
       "      <td>attack</td>\n",
       "      <td>Not fleeing</td>\n",
       "      <td>False</td>\n",
       "    </tr>\n",
       "  </tbody>\n",
       "</table>\n",
       "</div>"
      ],
      "text/plain": [
       "   id                name        date   manner_of_death       armed   age  \\\n",
       "0   3          Tim Elliot  2015-01-02              shot         gun  53.0   \n",
       "1   4    Lewis Lee Lembke  2015-01-02              shot         gun  47.0   \n",
       "2   5  John Paul Quintero  2015-01-03  shot and Tasered     unarmed  23.0   \n",
       "3   8     Matthew Hoffman  2015-01-04              shot  toy weapon  32.0   \n",
       "4   9   Michael Rodriguez  2015-01-04              shot    nail gun  39.0   \n",
       "\n",
       "  gender race           city state  signs_of_mental_illness threat_level  \\\n",
       "0      M    A        Shelton    WA                     True       attack   \n",
       "1      M    W          Aloha    OR                    False       attack   \n",
       "2      M    H        Wichita    KS                    False        other   \n",
       "3      M    W  San Francisco    CA                     True       attack   \n",
       "4      M    H          Evans    CO                    False       attack   \n",
       "\n",
       "          flee  body_camera  \n",
       "0  Not fleeing        False  \n",
       "1  Not fleeing        False  \n",
       "2  Not fleeing        False  \n",
       "3  Not fleeing        False  \n",
       "4  Not fleeing        False  "
      ]
     },
     "execution_count": 6,
     "metadata": {},
     "output_type": "execute_result"
    }
   ],
   "source": [
    "df.head()"
   ]
  },
  {
   "cell_type": "code",
   "execution_count": 3,
   "metadata": {},
   "outputs": [],
   "source": [
    "# Feature Engineering + transformation\n",
    "df = df[df[\"gender\"].notnull()]\n",
    "df = df[df[\"race\"].notnull()]\n",
    "df = df[df[\"armed\"].notnull()]\n",
    "df.drop(\"flee\", axis=1, inplace=True)\n",
    "df.drop(\"body_camera\", axis=1, inplace=True)\n",
    "race_map = {\n",
    "     'A': 0,\n",
    "     'W': 1, \n",
    "     'H': 0, \n",
    "     'B': 0, \n",
    "     'O': 0, \n",
    "     'N': 0   \n",
    "}\n",
    "df[\"race\"] = df[\"race\"].map(race_map)\n",
    "df = pd.concat([df, pd.get_dummies(df[\"state\"])], axis=1)\n",
    "df = pd.concat([df, pd.get_dummies(df[\"manner_of_death\"])], axis=1)\n",
    "df = pd.concat([df, pd.get_dummies(df[\"threat_level\"])], axis=1)\n",
    "df = pd.concat([df, pd.get_dummies(df[\"armed\"])], axis=1)\n",
    "df.drop(\"state\", axis=1, inplace=True)\n",
    "df.drop(\"manner_of_death\", axis=1, inplace=True)\n",
    "df.drop(\"threat_level\", axis=1, inplace=True)\n",
    "df.drop(\"armed\", axis=1, inplace=True)\n",
    "mental_illness_map = {\n",
    "    True: 1,\n",
    "    False: 0\n",
    "}\n",
    "gender_map = {\n",
    "    \"M\": 0,\n",
    "    \"F\": 1\n",
    "}\n",
    "df[\"signs_of_mental_illness\"] = df[\"signs_of_mental_illness\"].map(mental_illness_map)\n",
    "df[\"gender\"] = df[\"gender\"].map(gender_map)\n",
    "df[\"month\"] = [elem.month for elem in pd.to_datetime(df[\"date\"])]\n",
    "df[\"day\"] = [elem.day for elem in pd.to_datetime(df[\"date\"])]\n",
    "df[\"year\"] = [elem.year for elem in pd.to_datetime(df[\"date\"])]\n",
    "df.drop(\"date\", axis=1, inplace=True)"
   ]
  },
  {
   "cell_type": "code",
   "execution_count": 22,
   "metadata": {},
   "outputs": [
    {
     "data": {
      "text/plain": [
       "(2013, 126)"
      ]
     },
     "execution_count": 22,
     "metadata": {},
     "output_type": "execute_result"
    }
   ],
   "source": [
    "df.shape"
   ]
  },
  {
   "cell_type": "code",
   "execution_count": 56,
   "metadata": {},
   "outputs": [
    {
     "data": {
      "text/html": [
       "<div>\n",
       "<style scoped>\n",
       "    .dataframe tbody tr th:only-of-type {\n",
       "        vertical-align: middle;\n",
       "    }\n",
       "\n",
       "    .dataframe tbody tr th {\n",
       "        vertical-align: top;\n",
       "    }\n",
       "\n",
       "    .dataframe thead th {\n",
       "        text-align: right;\n",
       "    }\n",
       "</style>\n",
       "<table border=\"1\" class=\"dataframe\">\n",
       "  <thead>\n",
       "    <tr style=\"text-align: right;\">\n",
       "      <th></th>\n",
       "      <th>id</th>\n",
       "      <th>name</th>\n",
       "      <th>age</th>\n",
       "      <th>gender</th>\n",
       "      <th>race</th>\n",
       "      <th>city</th>\n",
       "      <th>signs_of_mental_illness</th>\n",
       "      <th>AK</th>\n",
       "      <th>AL</th>\n",
       "      <th>AR</th>\n",
       "      <th>...</th>\n",
       "      <th>straight edge razor</th>\n",
       "      <th>sword</th>\n",
       "      <th>toy weapon</th>\n",
       "      <th>unarmed</th>\n",
       "      <th>undetermined</th>\n",
       "      <th>unknown weapon</th>\n",
       "      <th>vehicle</th>\n",
       "      <th>month</th>\n",
       "      <th>day</th>\n",
       "      <th>year</th>\n",
       "    </tr>\n",
       "  </thead>\n",
       "  <tbody>\n",
       "    <tr>\n",
       "      <th>0</th>\n",
       "      <td>3</td>\n",
       "      <td>Tim Elliot</td>\n",
       "      <td>53.0</td>\n",
       "      <td>0</td>\n",
       "      <td>A</td>\n",
       "      <td>Shelton</td>\n",
       "      <td>1</td>\n",
       "      <td>0</td>\n",
       "      <td>0</td>\n",
       "      <td>0</td>\n",
       "      <td>...</td>\n",
       "      <td>0</td>\n",
       "      <td>0</td>\n",
       "      <td>0</td>\n",
       "      <td>0</td>\n",
       "      <td>0</td>\n",
       "      <td>0</td>\n",
       "      <td>0</td>\n",
       "      <td>1</td>\n",
       "      <td>2</td>\n",
       "      <td>2015</td>\n",
       "    </tr>\n",
       "    <tr>\n",
       "      <th>1</th>\n",
       "      <td>4</td>\n",
       "      <td>Lewis Lee Lembke</td>\n",
       "      <td>47.0</td>\n",
       "      <td>0</td>\n",
       "      <td>W</td>\n",
       "      <td>Aloha</td>\n",
       "      <td>0</td>\n",
       "      <td>0</td>\n",
       "      <td>0</td>\n",
       "      <td>0</td>\n",
       "      <td>...</td>\n",
       "      <td>0</td>\n",
       "      <td>0</td>\n",
       "      <td>0</td>\n",
       "      <td>0</td>\n",
       "      <td>0</td>\n",
       "      <td>0</td>\n",
       "      <td>0</td>\n",
       "      <td>1</td>\n",
       "      <td>2</td>\n",
       "      <td>2015</td>\n",
       "    </tr>\n",
       "    <tr>\n",
       "      <th>2</th>\n",
       "      <td>5</td>\n",
       "      <td>John Paul Quintero</td>\n",
       "      <td>23.0</td>\n",
       "      <td>0</td>\n",
       "      <td>H</td>\n",
       "      <td>Wichita</td>\n",
       "      <td>0</td>\n",
       "      <td>0</td>\n",
       "      <td>0</td>\n",
       "      <td>0</td>\n",
       "      <td>...</td>\n",
       "      <td>0</td>\n",
       "      <td>0</td>\n",
       "      <td>0</td>\n",
       "      <td>1</td>\n",
       "      <td>0</td>\n",
       "      <td>0</td>\n",
       "      <td>0</td>\n",
       "      <td>1</td>\n",
       "      <td>3</td>\n",
       "      <td>2015</td>\n",
       "    </tr>\n",
       "    <tr>\n",
       "      <th>3</th>\n",
       "      <td>8</td>\n",
       "      <td>Matthew Hoffman</td>\n",
       "      <td>32.0</td>\n",
       "      <td>0</td>\n",
       "      <td>W</td>\n",
       "      <td>San Francisco</td>\n",
       "      <td>1</td>\n",
       "      <td>0</td>\n",
       "      <td>0</td>\n",
       "      <td>0</td>\n",
       "      <td>...</td>\n",
       "      <td>0</td>\n",
       "      <td>0</td>\n",
       "      <td>1</td>\n",
       "      <td>0</td>\n",
       "      <td>0</td>\n",
       "      <td>0</td>\n",
       "      <td>0</td>\n",
       "      <td>1</td>\n",
       "      <td>4</td>\n",
       "      <td>2015</td>\n",
       "    </tr>\n",
       "    <tr>\n",
       "      <th>4</th>\n",
       "      <td>9</td>\n",
       "      <td>Michael Rodriguez</td>\n",
       "      <td>39.0</td>\n",
       "      <td>0</td>\n",
       "      <td>H</td>\n",
       "      <td>Evans</td>\n",
       "      <td>0</td>\n",
       "      <td>0</td>\n",
       "      <td>0</td>\n",
       "      <td>0</td>\n",
       "      <td>...</td>\n",
       "      <td>0</td>\n",
       "      <td>0</td>\n",
       "      <td>0</td>\n",
       "      <td>0</td>\n",
       "      <td>0</td>\n",
       "      <td>0</td>\n",
       "      <td>0</td>\n",
       "      <td>1</td>\n",
       "      <td>4</td>\n",
       "      <td>2015</td>\n",
       "    </tr>\n",
       "  </tbody>\n",
       "</table>\n",
       "<p>5 rows × 129 columns</p>\n",
       "</div>"
      ],
      "text/plain": [
       "   id                name   age  gender race           city  \\\n",
       "0   3          Tim Elliot  53.0       0    A        Shelton   \n",
       "1   4    Lewis Lee Lembke  47.0       0    W          Aloha   \n",
       "2   5  John Paul Quintero  23.0       0    H        Wichita   \n",
       "3   8     Matthew Hoffman  32.0       0    W  San Francisco   \n",
       "4   9   Michael Rodriguez  39.0       0    H          Evans   \n",
       "\n",
       "   signs_of_mental_illness  AK  AL  AR  ...   straight edge razor  sword  \\\n",
       "0                        1   0   0   0  ...                     0      0   \n",
       "1                        0   0   0   0  ...                     0      0   \n",
       "2                        0   0   0   0  ...                     0      0   \n",
       "3                        1   0   0   0  ...                     0      0   \n",
       "4                        0   0   0   0  ...                     0      0   \n",
       "\n",
       "   toy weapon  unarmed  undetermined  unknown weapon  vehicle  month  day  \\\n",
       "0           0        0             0               0        0      1    2   \n",
       "1           0        0             0               0        0      1    2   \n",
       "2           0        1             0               0        0      1    3   \n",
       "3           1        0             0               0        0      1    4   \n",
       "4           0        0             0               0        0      1    4   \n",
       "\n",
       "   year  \n",
       "0  2015  \n",
       "1  2015  \n",
       "2  2015  \n",
       "3  2015  \n",
       "4  2015  \n",
       "\n",
       "[5 rows x 129 columns]"
      ]
     },
     "execution_count": 56,
     "metadata": {},
     "output_type": "execute_result"
    }
   ],
   "source": [
    "df.head()"
   ]
  },
  {
   "cell_type": "code",
   "execution_count": 4,
   "metadata": {},
   "outputs": [],
   "source": [
    "df.drop(\"id\", inplace=True, axis=1)\n",
    "df.drop(\"name\", inplace=True, axis=1)\n",
    "df.drop(\"city\", inplace=True, axis=1)"
   ]
  },
  {
   "cell_type": "code",
   "execution_count": 66,
   "metadata": {},
   "outputs": [
    {
     "data": {
      "text/plain": [
       "array(['A', 'W', 'H', 'B', 'O', 'N'], dtype=object)"
      ]
     },
     "execution_count": 66,
     "metadata": {},
     "output_type": "execute_result"
    }
   ],
   "source": [
    "df[\"race\"].unique()"
   ]
  },
  {
   "cell_type": "code",
   "execution_count": 5,
   "metadata": {
    "scrolled": true
   },
   "outputs": [
    {
     "name": "stderr",
     "output_type": "stream",
     "text": [
      "/usr/local/lib/python3.6/dist-packages/sklearn/ensemble/forest.py:248: FutureWarning: The default value of n_estimators will change from 10 in version 0.20 to 100 in 0.22.\n",
      "  \"10 in version 0.20 to 100 in 0.22.\", FutureWarning)\n",
      "/usr/local/lib/python3.6/dist-packages/sklearn/ensemble/forest.py:248: FutureWarning: The default value of n_estimators will change from 10 in version 0.20 to 100 in 0.22.\n",
      "  \"10 in version 0.20 to 100 in 0.22.\", FutureWarning)\n",
      "/usr/local/lib/python3.6/dist-packages/sklearn/ensemble/forest.py:248: FutureWarning: The default value of n_estimators will change from 10 in version 0.20 to 100 in 0.22.\n",
      "  \"10 in version 0.20 to 100 in 0.22.\", FutureWarning)\n",
      "/usr/local/lib/python3.6/dist-packages/sklearn/ensemble/forest.py:248: FutureWarning: The default value of n_estimators will change from 10 in version 0.20 to 100 in 0.22.\n",
      "  \"10 in version 0.20 to 100 in 0.22.\", FutureWarning)\n",
      "/usr/local/lib/python3.6/dist-packages/sklearn/ensemble/forest.py:248: FutureWarning: The default value of n_estimators will change from 10 in version 0.20 to 100 in 0.22.\n",
      "  \"10 in version 0.20 to 100 in 0.22.\", FutureWarning)\n",
      "/usr/local/lib/python3.6/dist-packages/sklearn/ensemble/forest.py:248: FutureWarning: The default value of n_estimators will change from 10 in version 0.20 to 100 in 0.22.\n",
      "  \"10 in version 0.20 to 100 in 0.22.\", FutureWarning)\n",
      "/usr/local/lib/python3.6/dist-packages/sklearn/ensemble/forest.py:248: FutureWarning: The default value of n_estimators will change from 10 in version 0.20 to 100 in 0.22.\n",
      "  \"10 in version 0.20 to 100 in 0.22.\", FutureWarning)\n",
      "/usr/local/lib/python3.6/dist-packages/sklearn/ensemble/forest.py:248: FutureWarning: The default value of n_estimators will change from 10 in version 0.20 to 100 in 0.22.\n",
      "  \"10 in version 0.20 to 100 in 0.22.\", FutureWarning)\n"
     ]
    },
    {
     "name": "stdout",
     "output_type": "stream",
     "text": [
      "              precision    recall  f1-score   support\n",
      "\n",
      "           0       0.59      0.68      0.63       979\n",
      "           1       0.65      0.56      0.60      1034\n",
      "\n",
      "   micro avg       0.62      0.62      0.62      2013\n",
      "   macro avg       0.62      0.62      0.62      2013\n",
      "weighted avg       0.62      0.62      0.62      2013\n",
      "\n"
     ]
    },
    {
     "name": "stderr",
     "output_type": "stream",
     "text": [
      "/usr/local/lib/python3.6/dist-packages/sklearn/ensemble/forest.py:248: FutureWarning: The default value of n_estimators will change from 10 in version 0.20 to 100 in 0.22.\n",
      "  \"10 in version 0.20 to 100 in 0.22.\", FutureWarning)\n",
      "/usr/local/lib/python3.6/dist-packages/sklearn/ensemble/forest.py:248: FutureWarning: The default value of n_estimators will change from 10 in version 0.20 to 100 in 0.22.\n",
      "  \"10 in version 0.20 to 100 in 0.22.\", FutureWarning)\n"
     ]
    }
   ],
   "source": [
    "df = df[df[\"age\"].notnull()]\n",
    "y = df[\"race\"]\n",
    "X = df.drop(\"race\", axis=1)\n",
    "rf_clf = ensemble.RandomForestClassifier()\n",
    "prediction = cross_val_predict(rf_clf, X, y, cv=10)\n",
    "print(metrics.classification_report(y, prediction))"
   ]
  },
  {
   "cell_type": "code",
   "execution_count": 6,
   "metadata": {},
   "outputs": [
    {
     "name": "stderr",
     "output_type": "stream",
     "text": [
      "/usr/local/lib/python3.6/dist-packages/sklearn/model_selection/_split.py:2069: FutureWarning: From version 0.21, test_size will always complement train_size unless both are specified.\n",
      "  FutureWarning)\n",
      "/usr/local/lib/python3.6/dist-packages/ipykernel_launcher.py:5: FutureWarning: Method .as_matrix will be removed in a future version. Use .values instead.\n",
      "  \"\"\"\n"
     ]
    }
   ],
   "source": [
    "X_train, X_test, y_train, y_test = train_test_split(\n",
    "    X, y, train_size=0.80)\n",
    "feature_names = list(X_train.columns.tolist())\n",
    "class_names = list(y_train.unique())\n",
    "explainer = lime.lime_tabular.LimeTabularExplainer(X_train.as_matrix(), \n",
    "                                                   feature_names=feature_names, \n",
    "                                                   class_names=class_names,\n",
    "                                                   discretize_continuous=True)"
   ]
  },
  {
   "cell_type": "code",
   "execution_count": 7,
   "metadata": {},
   "outputs": [
    {
     "ename": "AttributeError",
     "evalue": "'LimeTabularExplainer' object has no attribute 'show_in_notebook'",
     "output_type": "error",
     "traceback": [
      "\u001b[0;31m---------------------------------------------------------------------------\u001b[0m",
      "\u001b[0;31mAttributeError\u001b[0m                            Traceback (most recent call last)",
      "\u001b[0;32m<ipython-input-7-f38489498b62>\u001b[0m in \u001b[0;36m<module>\u001b[0;34m()\u001b[0m\n\u001b[0;32m----> 1\u001b[0;31m \u001b[0mexplainer\u001b[0m\u001b[0;34m.\u001b[0m\u001b[0mshow_in_notebook\u001b[0m\u001b[0;34m(\u001b[0m\u001b[0;34m)\u001b[0m\u001b[0;34m\u001b[0m\u001b[0m\n\u001b[0m",
      "\u001b[0;31mAttributeError\u001b[0m: 'LimeTabularExplainer' object has no attribute 'show_in_notebook'"
     ]
    }
   ],
   "source": [
    "explainer.show_in_notebook()"
   ]
  },
  {
   "cell_type": "code",
   "execution_count": 9,
   "metadata": {},
   "outputs": [
    {
     "name": "stderr",
     "output_type": "stream",
     "text": [
      "/usr/local/lib/python3.6/dist-packages/sklearn/ensemble/forest.py:248: FutureWarning: The default value of n_estimators will change from 10 in version 0.20 to 100 in 0.22.\n",
      "  \"10 in version 0.20 to 100 in 0.22.\", FutureWarning)\n"
     ]
    },
    {
     "data": {
      "text/plain": [
       "RandomForestClassifier(bootstrap=True, class_weight=None, criterion='gini',\n",
       "            max_depth=None, max_features='auto', max_leaf_nodes=None,\n",
       "            min_impurity_decrease=0.0, min_impurity_split=None,\n",
       "            min_samples_leaf=1, min_samples_split=2,\n",
       "            min_weight_fraction_leaf=0.0, n_estimators=10, n_jobs=None,\n",
       "            oob_score=False, random_state=None, verbose=0,\n",
       "            warm_start=False)"
      ]
     },
     "execution_count": 9,
     "metadata": {},
     "output_type": "execute_result"
    }
   ],
   "source": [
    "rf_clf = ensemble.RandomForestClassifier()\n",
    "rf_clf.fit(X_train, y_train)"
   ]
  },
  {
   "cell_type": "code",
   "execution_count": 51,
   "metadata": {},
   "outputs": [
    {
     "name": "stdout",
     "output_type": "stream",
     "text": [
      "<class 'pandas.core.frame.DataFrame'>\n",
      "Int64Index: 403 entries, 1943 to 1408\n",
      "Columns: 125 entries, age to year\n",
      "dtypes: float64(1), int64(5), uint8(119)\n",
      "memory usage: 68.9 KB\n"
     ]
    }
   ],
   "source": [
    "X_test.info()"
   ]
  },
  {
   "cell_type": "code",
   "execution_count": 62,
   "metadata": {},
   "outputs": [
    {
     "data": {
      "text/plain": [
       "[(3, 0.7551487414187642), (5, 0.7483296213808464), (7, 0.7443946188340809)]"
      ]
     },
     "execution_count": 62,
     "metadata": {},
     "output_type": "execute_result"
    }
   ],
   "source": [
    "from sklearn.neighbors import KNeighborsClassifier\n",
    "\n",
    "# choose your K\n",
    "measures = []\n",
    "for k in range(2, 20):\n",
    "    knn_reg = KNeighborsClassifier(n_neighbors=k)\n",
    "    knn_reg.fit(X_test, y_test)\n",
    "    y_pred = knn_reg.predict(X_test)\n",
    "    measures.append((k, metrics.f1_score(y_test, y_pred)))\n",
    "measures = sorted(measures, key=lambda t:t[1], reverse=True)\n",
    "measures[:3]"
   ]
  },
  {
   "cell_type": "code",
   "execution_count": 68,
   "metadata": {},
   "outputs": [],
   "source": [
    "knn_reg = KNeighborsClassifier(n_neighbors=k)\n",
    "knn_reg.fit(X_test, y_test)\n",
    "# decide on which classes you need to care about\n",
    "classes_we_need = [0,1,2]\n",
    "representative_examples = []\n",
    "for index in X_test.index:\n",
    "    result = knn_reg.predict([X_test.loc[index]])\n",
    "    result = result[0]\n",
    "    if result in classes_we_need:\n",
    "        representative_examples.append(X_test.loc[index])\n",
    "        classes_we_need.remove(result)"
   ]
  },
  {
   "cell_type": "code",
   "execution_count": 70,
   "metadata": {},
   "outputs": [
    {
     "data": {
      "text/plain": [
       "2"
      ]
     },
     "execution_count": 70,
     "metadata": {},
     "output_type": "execute_result"
    }
   ],
   "source": [
    "len(representative_examples)"
   ]
  },
  {
   "cell_type": "code",
   "execution_count": 10,
   "metadata": {},
   "outputs": [],
   "source": [
    "exp = explainer.explain_instance(X_test.iloc[0], rf_clf.predict_proba, num_features=X_test.shape[1], top_labels=1)"
   ]
  },
  {
   "cell_type": "code",
   "execution_count": 11,
   "metadata": {},
   "outputs": [
    {
     "ename": "TypeError",
     "evalue": "Object of type 'int64' is not JSON serializable",
     "output_type": "error",
     "traceback": [
      "\u001b[0;31m---------------------------------------------------------------------------\u001b[0m",
      "\u001b[0;31mTypeError\u001b[0m                                 Traceback (most recent call last)",
      "\u001b[0;32m<ipython-input-11-7f236c08ce7a>\u001b[0m in \u001b[0;36m<module>\u001b[0;34m()\u001b[0m\n\u001b[0;32m----> 1\u001b[0;31m \u001b[0mexp\u001b[0m\u001b[0;34m.\u001b[0m\u001b[0mshow_in_notebook\u001b[0m\u001b[0;34m(\u001b[0m\u001b[0;34m)\u001b[0m\u001b[0;34m\u001b[0m\u001b[0m\n\u001b[0m",
      "\u001b[0;32m/usr/local/lib/python3.6/dist-packages/lime/explanation.py\u001b[0m in \u001b[0;36mshow_in_notebook\u001b[0;34m(self, labels, predict_proba, show_predicted_value, **kwargs)\u001b[0m\n\u001b[1;32m    198\u001b[0m                                   \u001b[0mpredict_proba\u001b[0m\u001b[0;34m=\u001b[0m\u001b[0mpredict_proba\u001b[0m\u001b[0;34m,\u001b[0m\u001b[0;34m\u001b[0m\u001b[0m\n\u001b[1;32m    199\u001b[0m                                   \u001b[0mshow_predicted_value\u001b[0m\u001b[0;34m=\u001b[0m\u001b[0mshow_predicted_value\u001b[0m\u001b[0;34m,\u001b[0m\u001b[0;34m\u001b[0m\u001b[0m\n\u001b[0;32m--> 200\u001b[0;31m                                   **kwargs)))\n\u001b[0m\u001b[1;32m    201\u001b[0m \u001b[0;34m\u001b[0m\u001b[0m\n\u001b[1;32m    202\u001b[0m     def save_to_file(self,\n",
      "\u001b[0;32m/usr/local/lib/python3.6/dist-packages/lime/explanation.py\u001b[0m in \u001b[0;36mas_html\u001b[0;34m(self, labels, predict_proba, show_predicted_value, **kwargs)\u001b[0m\n\u001b[1;32m    268\u001b[0m             \u001b[0mvar\u001b[0m \u001b[0mpp_svg\u001b[0m \u001b[0;34m=\u001b[0m \u001b[0mpp_div\u001b[0m\u001b[0;34m.\u001b[0m\u001b[0mappend\u001b[0m\u001b[0;34m(\u001b[0m\u001b[0;34m'svg'\u001b[0m\u001b[0;34m)\u001b[0m\u001b[0;34m.\u001b[0m\u001b[0mstyle\u001b[0m\u001b[0;34m(\u001b[0m\u001b[0;34m'width'\u001b[0m\u001b[0;34m,\u001b[0m \u001b[0;34m'100%%'\u001b[0m\u001b[0;34m)\u001b[0m\u001b[0;34m;\u001b[0m\u001b[0;34m\u001b[0m\u001b[0m\n\u001b[1;32m    269\u001b[0m             \u001b[0mvar\u001b[0m \u001b[0mpp\u001b[0m \u001b[0;34m=\u001b[0m \u001b[0mnew\u001b[0m \u001b[0mlime\u001b[0m\u001b[0;34m.\u001b[0m\u001b[0mPredictProba\u001b[0m\u001b[0;34m(\u001b[0m\u001b[0mpp_svg\u001b[0m\u001b[0;34m,\u001b[0m \u001b[0;34m%\u001b[0m\u001b[0ms\u001b[0m\u001b[0;34m,\u001b[0m \u001b[0;34m%\u001b[0m\u001b[0ms\u001b[0m\u001b[0;34m)\u001b[0m\u001b[0;34m;\u001b[0m\u001b[0;34m\u001b[0m\u001b[0m\n\u001b[0;32m--> 270\u001b[0;31m             ''' % (jsonize(self.class_names),\n\u001b[0m\u001b[1;32m    271\u001b[0m                    jsonize(list(self.predict_proba.astype(float))))\n\u001b[1;32m    272\u001b[0m \u001b[0;34m\u001b[0m\u001b[0m\n",
      "\u001b[0;32m/usr/local/lib/python3.6/dist-packages/lime/explanation.py\u001b[0m in \u001b[0;36mjsonize\u001b[0;34m(x)\u001b[0m\n\u001b[1;32m    244\u001b[0m \u001b[0;34m\u001b[0m\u001b[0m\n\u001b[1;32m    245\u001b[0m         \u001b[0;32mdef\u001b[0m \u001b[0mjsonize\u001b[0m\u001b[0;34m(\u001b[0m\u001b[0mx\u001b[0m\u001b[0;34m)\u001b[0m\u001b[0;34m:\u001b[0m\u001b[0;34m\u001b[0m\u001b[0m\n\u001b[0;32m--> 246\u001b[0;31m             \u001b[0;32mreturn\u001b[0m \u001b[0mjson\u001b[0m\u001b[0;34m.\u001b[0m\u001b[0mdumps\u001b[0m\u001b[0;34m(\u001b[0m\u001b[0mx\u001b[0m\u001b[0;34m,\u001b[0m \u001b[0mensure_ascii\u001b[0m\u001b[0;34m=\u001b[0m\u001b[0;32mFalse\u001b[0m\u001b[0;34m)\u001b[0m\u001b[0;34m\u001b[0m\u001b[0m\n\u001b[0m\u001b[1;32m    247\u001b[0m \u001b[0;34m\u001b[0m\u001b[0m\n\u001b[1;32m    248\u001b[0m         \u001b[0;32mif\u001b[0m \u001b[0mlabels\u001b[0m \u001b[0;32mis\u001b[0m \u001b[0;32mNone\u001b[0m \u001b[0;32mand\u001b[0m \u001b[0mself\u001b[0m\u001b[0;34m.\u001b[0m\u001b[0mmode\u001b[0m \u001b[0;34m==\u001b[0m \u001b[0;34m\"classification\"\u001b[0m\u001b[0;34m:\u001b[0m\u001b[0;34m\u001b[0m\u001b[0m\n",
      "\u001b[0;32m/usr/lib/python3.6/json/__init__.py\u001b[0m in \u001b[0;36mdumps\u001b[0;34m(obj, skipkeys, ensure_ascii, check_circular, allow_nan, cls, indent, separators, default, sort_keys, **kw)\u001b[0m\n\u001b[1;32m    236\u001b[0m         \u001b[0mcheck_circular\u001b[0m\u001b[0;34m=\u001b[0m\u001b[0mcheck_circular\u001b[0m\u001b[0;34m,\u001b[0m \u001b[0mallow_nan\u001b[0m\u001b[0;34m=\u001b[0m\u001b[0mallow_nan\u001b[0m\u001b[0;34m,\u001b[0m \u001b[0mindent\u001b[0m\u001b[0;34m=\u001b[0m\u001b[0mindent\u001b[0m\u001b[0;34m,\u001b[0m\u001b[0;34m\u001b[0m\u001b[0m\n\u001b[1;32m    237\u001b[0m         \u001b[0mseparators\u001b[0m\u001b[0;34m=\u001b[0m\u001b[0mseparators\u001b[0m\u001b[0;34m,\u001b[0m \u001b[0mdefault\u001b[0m\u001b[0;34m=\u001b[0m\u001b[0mdefault\u001b[0m\u001b[0;34m,\u001b[0m \u001b[0msort_keys\u001b[0m\u001b[0;34m=\u001b[0m\u001b[0msort_keys\u001b[0m\u001b[0;34m,\u001b[0m\u001b[0;34m\u001b[0m\u001b[0m\n\u001b[0;32m--> 238\u001b[0;31m         **kw).encode(obj)\n\u001b[0m\u001b[1;32m    239\u001b[0m \u001b[0;34m\u001b[0m\u001b[0m\n\u001b[1;32m    240\u001b[0m \u001b[0;34m\u001b[0m\u001b[0m\n",
      "\u001b[0;32m/usr/lib/python3.6/json/encoder.py\u001b[0m in \u001b[0;36mencode\u001b[0;34m(self, o)\u001b[0m\n\u001b[1;32m    197\u001b[0m         \u001b[0;31m# exceptions aren't as detailed.  The list call should be roughly\u001b[0m\u001b[0;34m\u001b[0m\u001b[0;34m\u001b[0m\u001b[0m\n\u001b[1;32m    198\u001b[0m         \u001b[0;31m# equivalent to the PySequence_Fast that ''.join() would do.\u001b[0m\u001b[0;34m\u001b[0m\u001b[0;34m\u001b[0m\u001b[0m\n\u001b[0;32m--> 199\u001b[0;31m         \u001b[0mchunks\u001b[0m \u001b[0;34m=\u001b[0m \u001b[0mself\u001b[0m\u001b[0;34m.\u001b[0m\u001b[0miterencode\u001b[0m\u001b[0;34m(\u001b[0m\u001b[0mo\u001b[0m\u001b[0;34m,\u001b[0m \u001b[0m_one_shot\u001b[0m\u001b[0;34m=\u001b[0m\u001b[0;32mTrue\u001b[0m\u001b[0;34m)\u001b[0m\u001b[0;34m\u001b[0m\u001b[0m\n\u001b[0m\u001b[1;32m    200\u001b[0m         \u001b[0;32mif\u001b[0m \u001b[0;32mnot\u001b[0m \u001b[0misinstance\u001b[0m\u001b[0;34m(\u001b[0m\u001b[0mchunks\u001b[0m\u001b[0;34m,\u001b[0m \u001b[0;34m(\u001b[0m\u001b[0mlist\u001b[0m\u001b[0;34m,\u001b[0m \u001b[0mtuple\u001b[0m\u001b[0;34m)\u001b[0m\u001b[0;34m)\u001b[0m\u001b[0;34m:\u001b[0m\u001b[0;34m\u001b[0m\u001b[0m\n\u001b[1;32m    201\u001b[0m             \u001b[0mchunks\u001b[0m \u001b[0;34m=\u001b[0m \u001b[0mlist\u001b[0m\u001b[0;34m(\u001b[0m\u001b[0mchunks\u001b[0m\u001b[0;34m)\u001b[0m\u001b[0;34m\u001b[0m\u001b[0m\n",
      "\u001b[0;32m/usr/lib/python3.6/json/encoder.py\u001b[0m in \u001b[0;36miterencode\u001b[0;34m(self, o, _one_shot)\u001b[0m\n\u001b[1;32m    255\u001b[0m                 \u001b[0mself\u001b[0m\u001b[0;34m.\u001b[0m\u001b[0mkey_separator\u001b[0m\u001b[0;34m,\u001b[0m \u001b[0mself\u001b[0m\u001b[0;34m.\u001b[0m\u001b[0mitem_separator\u001b[0m\u001b[0;34m,\u001b[0m \u001b[0mself\u001b[0m\u001b[0;34m.\u001b[0m\u001b[0msort_keys\u001b[0m\u001b[0;34m,\u001b[0m\u001b[0;34m\u001b[0m\u001b[0m\n\u001b[1;32m    256\u001b[0m                 self.skipkeys, _one_shot)\n\u001b[0;32m--> 257\u001b[0;31m         \u001b[0;32mreturn\u001b[0m \u001b[0m_iterencode\u001b[0m\u001b[0;34m(\u001b[0m\u001b[0mo\u001b[0m\u001b[0;34m,\u001b[0m \u001b[0;36m0\u001b[0m\u001b[0;34m)\u001b[0m\u001b[0;34m\u001b[0m\u001b[0m\n\u001b[0m\u001b[1;32m    258\u001b[0m \u001b[0;34m\u001b[0m\u001b[0m\n\u001b[1;32m    259\u001b[0m def _make_iterencode(markers, _default, _encoder, _indent, _floatstr,\n",
      "\u001b[0;32m/usr/lib/python3.6/json/encoder.py\u001b[0m in \u001b[0;36mdefault\u001b[0;34m(self, o)\u001b[0m\n\u001b[1;32m    178\u001b[0m         \"\"\"\n\u001b[1;32m    179\u001b[0m         raise TypeError(\"Object of type '%s' is not JSON serializable\" %\n\u001b[0;32m--> 180\u001b[0;31m                         o.__class__.__name__)\n\u001b[0m\u001b[1;32m    181\u001b[0m \u001b[0;34m\u001b[0m\u001b[0m\n\u001b[1;32m    182\u001b[0m     \u001b[0;32mdef\u001b[0m \u001b[0mencode\u001b[0m\u001b[0;34m(\u001b[0m\u001b[0mself\u001b[0m\u001b[0;34m,\u001b[0m \u001b[0mo\u001b[0m\u001b[0;34m)\u001b[0m\u001b[0;34m:\u001b[0m\u001b[0;34m\u001b[0m\u001b[0m\n",
      "\u001b[0;31mTypeError\u001b[0m: Object of type 'int64' is not JSON serializable"
     ]
    }
   ],
   "source": [
    "exp.show_in_notebook()"
   ]
  },
  {
   "cell_type": "code",
   "execution_count": 46,
   "metadata": {},
   "outputs": [
    {
     "name": "stdout",
     "output_type": "stream",
     "text": [
      "('age > 44.75', 0.2808902518830345)\n",
      "('RI <= 0.00', 0.20587594536031886)\n",
      "('HI <= 0.00', 0.2000263450150964)\n",
      "('IL <= 0.00', 0.16886504606222538)\n",
      "('baseball bat and fireplace poker <= 0.00', 0.13839084552713238)\n",
      "('NM <= 0.00', 0.13507507455675266)\n",
      "('DC <= 0.00', 0.13351033030719484)\n",
      "('CA <= 0.00', 0.13278823377586862)\n",
      "('metal rake <= 0.00', 0.11302606044093605)\n",
      "('hand torch <= 0.00', 0.11163973513134975)\n",
      "('VA <= 0.00', 0.11145297481306175)\n",
      "('flashlight <= 0.00', 0.09794316872513832)\n",
      "('screwdriver <= 0.00', 0.09301257843107413)\n",
      "('metal pole <= 0.00', 0.09297748733869475)\n",
      "('NY <= 0.00', 0.09254975653983206)\n",
      "(\"contractor's level <= 0.00\", 0.09073403908549521)\n",
      "('NV <= 0.00', 0.09017224626350491)\n",
      "('gun and knife <= 0.00', 0.08922513402141183)\n",
      "('MD <= 0.00', 0.08305386458889889)\n",
      "('metal object <= 0.00', 0.07662246394318034)\n",
      "('ME <= 0.00', 0.07300869088413502)\n",
      "('sword <= 0.00', 0.0722700074039375)\n",
      "('SD <= 0.00', 0.07199057021233882)\n",
      "('cordless drill <= 0.00', 0.06381714755135577)\n",
      "('unarmed <= 0.00', 0.06233121261315742)\n",
      "('piece of wood <= 0.00', 0.06158060235740058)\n",
      "('NJ <= 0.00', 0.05776874168319692)\n",
      "('MA <= 0.00', 0.049783307823216036)\n",
      "('spear <= 0.00', 0.0473949490228677)\n",
      "('glass shard <= 0.00', 0.046907919274540834)\n",
      "('Taser <= 0.00', 0.045543132389183366)\n",
      "('bean-bag gun <= 0.00', 0.042804234186487634)\n",
      "('FL <= 0.00', 0.03764294419965601)\n",
      "('MS <= 0.00', 0.031185902201916534)\n",
      "('carjack <= 0.00', 0.027881273616343724)\n",
      "('chain saw <= 0.00', 0.026528294247242446)\n",
      "('vehicle <= 0.00', 0.025166003269227834)\n",
      "('baseball bat <= 0.00', 0.024321021817309038)\n",
      "('pitchfork <= 0.00', 0.023608196282118417)\n",
      "('guns and explosives <= 0.00', 0.02251851666155878)\n",
      "('MI <= 0.00', 0.022218462161242868)\n",
      "('shovel <= 0.00', 0.02052043944590539)\n",
      "('OH <= 0.00', 0.020409080561157405)\n",
      "('shot and Tasered <= 0.00', 0.018970042648827987)\n",
      "('LA <= 0.00', 0.01872519101362223)\n",
      "('NC <= 0.00', 0.016048961275479657)\n",
      "('MN <= 0.00', 0.01432544726702141)\n",
      "('undetermined <= 0.00', 0.013881168744079637)\n",
      "('machete <= 0.00', 0.012764114508344694)\n",
      "('IN <= 0.00', 0.01028802031514201)\n",
      "('AK <= 0.00', 0.008575007918190028)\n",
      "('0.00 < attack <= 1.00', 0.007469392859346285)\n",
      "('bayonet <= 0.00', 0.006831277231513522)\n",
      "('hammer <= 0.00', 0.006770140542359949)\n",
      "('toy weapon <= 0.00', 0.006653640975496278)\n",
      "('knife <= 0.00', 0.0046712553985522355)\n",
      "('MO <= 0.00', 0.004385353688372119)\n",
      "('rock <= 0.00', 0.003595895832920321)\n",
      "('undetermined <= 0.00', 0.0033864260283239926)\n",
      "('crowbar <= 0.00', 0.001843548966078271)\n",
      "('meat cleaver <= 0.00', 0.0015670513383879779)\n",
      "('gender > 0.00', 0.0011004349339824274)\n",
      "('blunt object <= 0.00', 6.0645026613366275e-05)\n",
      "('chain <= 0.00', 0.0)\n",
      "('straight edge razor <= 0.00', 0.0)\n",
      "('hatchet and gun <= 0.00', 0.0)\n",
      "('stapler <= 0.00', 0.0)\n",
      "('shot <= 1.00', 0.0)\n",
      "('beer bottle <= 0.00', 0.0)\n",
      "('metal hand tool <= 0.00', 0.0)\n",
      "('pipe <= 0.00', 0.0)\n",
      "('baton <= 0.00', 0.0)\n",
      "('motorcycle <= 0.00', 0.0)\n",
      "('flagpole <= 0.00', 0.0)\n",
      "('metal pipe <= 0.00', -0.0011825074670793643)\n",
      "('AZ <= 0.00', -0.001588058294245458)\n",
      "('crossbow <= 0.00', -0.0028895837421214284)\n",
      "('CO <= 0.00', -0.005608392497870004)\n",
      "('2015.00 < year <= 2016.00', -0.00820572505003805)\n",
      "('ND <= 0.00', -0.01065368262995688)\n",
      "('day > 23.00', -0.011380321777388097)\n",
      "('brick <= 0.00', -0.01258534026128506)\n",
      "('GA <= 0.00', -0.013665355578565465)\n",
      "('other <= 0.00', -0.015126257278985223)\n",
      "('scissors <= 0.00', -0.016700274074547238)\n",
      "('IA <= 0.00', -0.020322047041851435)\n",
      "('0.00 < gun <= 1.00', -0.020964373131268064)\n",
      "('garden tool <= 0.00', -0.021873533461386475)\n",
      "('nail gun <= 0.00', -0.022192551795814027)\n",
      "('sharp object <= 0.00', -0.022562053225334576)\n",
      "('AL <= 0.00', -0.023251828767025123)\n",
      "('TX > 0.00', -0.024123543436513465)\n",
      "('hatchet <= 0.00', -0.02461735551929235)\n",
      "('NE <= 0.00', -0.02557399045745094)\n",
      "('box cutter <= 0.00', -0.02729112357288413)\n",
      "('month > 9.00', -0.029848635398551083)\n",
      "('TN <= 0.00', -0.03422109455451735)\n",
      "('CT <= 0.00', -0.03880926765459463)\n",
      "('SC <= 0.00', -0.04206245640048888)\n",
      "('WI <= 0.00', -0.04231405038519156)\n",
      "('PA <= 0.00', -0.043793507206019364)\n",
      "('unknown weapon <= 0.00', -0.04418261733807682)\n",
      "('ax <= 0.00', -0.04508946537256547)\n",
      "('pole and knife <= 0.00', -0.04735805169618677)\n",
      "('WY <= 0.00', -0.049712869756855634)\n",
      "('NH <= 0.00', -0.05036913464795187)\n",
      "('metal stick <= 0.00', -0.052949882057944646)\n",
      "('WA <= 0.00', -0.06467886574463373)\n",
      "('VT <= 0.00', -0.0717915556778034)\n",
      "('lawn mower blade <= 0.00', -0.07635115796668239)\n",
      "('UT <= 0.00', -0.08051633862248567)\n",
      "('OK <= 0.00', -0.08764585269059608)\n",
      "('machete and gun <= 0.00', -0.0888873324874719)\n",
      "('pole <= 0.00', -0.09298634127450772)\n",
      "('DE <= 0.00', -0.09662734046663798)\n",
      "('AR <= 0.00', -0.09710979835071812)\n",
      "('pick-axe <= 0.00', -0.09890159404073223)\n",
      "('signs_of_mental_illness <= 0.00', -0.11274666837757753)\n",
      "('KS <= 0.00', -0.11291360295323406)\n",
      "('oar <= 0.00', -0.12242951982359548)\n",
      "('ID <= 0.00', -0.12975092300767802)\n",
      "('KY <= 0.00', -0.1318233643966729)\n",
      "('MT <= 0.00', -0.15576342716851505)\n",
      "('WV <= 0.00', -0.16977876336508957)\n",
      "('OR <= 0.00', -0.17581963830577357)\n",
      "['white']\n"
     ]
    }
   ],
   "source": [
    "label_mapping = {\n",
    "    1: \"white\",\n",
    "    0: \"minority\"\n",
    "}\n",
    "feature_scores = exp.as_list()\n",
    "feature_scores = sorted(feature_scores, key=lambda t:t[1], reverse=True) \n",
    "for elem in feature_scores:\n",
    "    print(elem)\n",
    "print([label_mapping[elem] for elem in exp.top_labels])"
   ]
  },
  {
   "cell_type": "code",
   "execution_count": 47,
   "metadata": {},
   "outputs": [
    {
     "data": {
      "image/png": "[encoded data removed]",
      "text/plain": [
       "<Figure size 432x288 with 1 Axes>"
      ]
     },
     "metadata": {},
     "output_type": "display_data"
    }
   ],
   "source": [
    "%matplotlib inline\n",
    "exp.as_pyplot_figure()\n",
    "plt.show()"
   ]
  },
  {
   "cell_type": "code",
   "execution_count": null,
   "metadata": {},
   "outputs": [],
   "source": []
  }
 ],
 "metadata": {
  "kernelspec": {
   "display_name": "Python 3",
   "language": "python",
   "name": "python3"
  },
  "language_info": {
   "codemirror_mode": {
    "name": "ipython",
    "version": 3
   },
   "file_extension": ".py",
   "mimetype": "text/x-python",
   "name": "python",
   "nbconvert_exporter": "python",
   "pygments_lexer": "ipython3",
   "version": "3.6.6"
  }
 },
 "nbformat": 4,
 "nbformat_minor": 2
}
