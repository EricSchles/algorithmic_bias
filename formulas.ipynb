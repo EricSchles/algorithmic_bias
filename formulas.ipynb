{
 "cells": [
  {
   "cell_type": "markdown",
   "metadata": {},
   "source": [
    "Linear Regression:\n",
    "\n",
    "$$y = \\theta_1x_1 + \\theta_2x_2 + ... \\theta_nx_n + b$$"
   ]
  },
  {
   "cell_type": "markdown",
   "metadata": {},
   "source": [
    "$$x_i$$"
   ]
  },
  {
   "cell_type": "markdown",
   "metadata": {},
   "source": [
    "CART:\n",
    "    \n",
    "Let $(E_1, E_2, ... E_k)$ be a split induced on the set of records $E$, a splitting criterion that makes use of the impurity measure $I(\\cdot)$:\n",
    "    $$ \\Delta = I(E) - \\sum_{i=1}^{k} \\frac{|E_i|}{|E|} I(E_i) $$\n",
    "    "
   ]
  },
  {
   "cell_type": "markdown",
   "metadata": {},
   "source": [
    "CART uses the Gini index that is defined for the set $E$ as following.  Let $p_j$ be the fraction of records in $E$ of class $c_j$\n",
    "\n",
    "$$ p_j = \\frac{| \\{t \\in E : t[C] = c_j \\}|}{|E|} $$    \n",
    "    \n",
    "then\n",
    "    \n",
    "$$ Gini(E) = 1 - \\sum_{j=1}^{Q}p_j^2 $$"
   ]
  },
  {
   "cell_type": "code",
   "execution_count": null,
   "metadata": {},
   "outputs": [],
   "source": []
  }
 ],
 "metadata": {
  "kernelspec": {
   "display_name": "Python 3",
   "language": "python",
   "name": "python3"
  },
  "language_info": {
   "codemirror_mode": {
    "name": "ipython",
    "version": 3
   },
   "file_extension": ".py",
   "mimetype": "text/x-python",
   "name": "python",
   "nbconvert_exporter": "python",
   "pygments_lexer": "ipython3",
   "version": "3.6.6"
  }
 },
 "nbformat": 4,
 "nbformat_minor": 2
}
